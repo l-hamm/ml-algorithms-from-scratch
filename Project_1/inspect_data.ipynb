{
 "cells": [
  {
   "cell_type": "code",
   "execution_count": 38,
   "source": [
    "import numpy as np\r\n",
    "import sys\r\n",
    "import project1 as p1\r\n",
    "import pandas as pd\r\n",
    "import utils\r\n",
    "import main\r\n",
    "\r\n"
   ],
   "outputs": [],
   "metadata": {}
  },
  {
   "cell_type": "code",
   "execution_count": 40,
   "source": [
    "train_data = utils.load_data('reviews_train.tsv')\r\n",
    "val_data = utils.load_data('reviews_val.tsv')\r\n",
    "test_data = utils.load_data('reviews_test.tsv')\r\n",
    "\r\n",
    "train_texts, train_labels = zip(*((sample['text'], sample['sentiment']) for sample in train_data))\r\n",
    "val_texts, val_labels = zip(*((sample['text'], sample['sentiment']) for sample in val_data))\r\n",
    "test_texts, test_labels = zip(*((sample['text'], sample['sentiment']) for sample in test_data))\r\n",
    "\r\n",
    "dictionary = p1.bag_of_words(train_texts)\r\n",
    "\r\n",
    "train_bow_features = p1.extract_bow_feature_vectors(train_texts, dictionary)\r\n",
    "val_bow_features = p1.extract_bow_feature_vectors(val_texts, dictionary)\r\n",
    "test_bow_features = p1.extract_bow_feature_vectors(test_texts, dictionary)"
   ],
   "outputs": [],
   "metadata": {}
  },
  {
   "cell_type": "code",
   "execution_count": 55,
   "source": [
    "#https://stackabuse.com/removing-stop-words-from-strings-in-python/\r\n",
    "\r\n",
    "def remove_stopwords(sentence):\r\n",
    "    tokens = sentence.split(\" \")\r\n",
    "    tokens_filtered= [word for word in text_tokens if not word in sw_list]\r\n",
    "    return (\" \").join(tokens_filtered)\r\n",
    "\r\n",
    "#train_texts=utils.load_data('reviews_train.tsv')\r\n",
    "\r\n",
    "sw_df=pd.read_csv('stopwords.txt')\r\n",
    "sw_list=sw_df['i'].values.tolist()\r\n",
    "\r\n",
    "train_texts_sw=[]\r\n",
    "\r\n",
    "for i in train_texts:\r\n",
    "    text_tokens=p1.extract_words(i)\r\n",
    "    train_texts_sw.append(remove_stopwords(i))\r\n",
    "    #print (i)\r\n",
    "\r\n",
    "train_bow_sw_features=p1.extract_bow_feature_vectors(train_texts_sw, dictionary)\r\n",
    "\r\n",
    "T=25\r\n",
    "L=0.01\r\n",
    "\r\n",
    "avg_peg_train_accuracy, avg_peg_train_sw_accuracy = \\\r\n",
    "    p1.classifier_accuracy(p1.pegasos, train_bow_features,train_bow_sw_features,train_labels,train_labels,T=T,L=L)\r\n",
    "\r\n",
    "print(\"{:50} {:.4f}\".format(\"Training accuracy for Pegasos:\", avg_peg_train_accuracy))\r\n",
    "print(\"{:50} {:.4f}\".format(\"Validation accuracy for Pegasos stopwords removed:\", avg_peg_train_sw_accuracy))\r\n",
    "#print(train_bow_features)\r\n",
    "#print(train_bow_sw_features)"
   ],
   "outputs": [
    {
     "output_type": "stream",
     "name": "stdout",
     "text": [
      "Training accuracy for Pegasos:                     0.9185\n",
      "Validation accuracy for Pegasos stopwords removed: 0.9025\n"
     ]
    }
   ],
   "metadata": {}
  }
 ],
 "metadata": {
  "orig_nbformat": 4,
  "language_info": {
   "name": "python",
   "version": "3.9.7",
   "mimetype": "text/x-python",
   "codemirror_mode": {
    "name": "ipython",
    "version": 3
   },
   "pygments_lexer": "ipython3",
   "nbconvert_exporter": "python",
   "file_extension": ".py"
  },
  "kernelspec": {
   "name": "python3",
   "display_name": "Python 3.9.7 64-bit ('6.86x': conda)"
  },
  "interpreter": {
   "hash": "724789a6b0f92a8f9f02b52578c43ff8b4fdb46f16c406c6a137c595fcb77fcc"
  }
 },
 "nbformat": 4,
 "nbformat_minor": 2
}