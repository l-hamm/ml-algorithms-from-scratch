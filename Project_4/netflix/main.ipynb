{
 "cells": [
  {
   "cell_type": "code",
   "execution_count": 1,
   "metadata": {},
   "outputs": [],
   "source": [
    "import numpy as np\n",
    "import kmeans\n",
    "import common\n",
    "import naive_em\n",
    "import em"
   ]
  }
 ],
 "metadata": {
  "interpreter": {
   "hash": "979332b0549cb94ac4f31e81020729dbfde54c7d9895d4583ab2a80ecedfb478"
  },
  "kernelspec": {
   "display_name": "Python 3.9.7 64-bit ('netflix': conda)",
   "language": "python",
   "name": "python3"
  },
  "language_info": {
   "codemirror_mode": {
    "name": "ipython",
    "version": 3
   },
   "file_extension": ".py",
   "mimetype": "text/x-python",
   "name": "python",
   "nbconvert_exporter": "python",
   "pygments_lexer": "ipython3",
   "version": "3.9.7"
  },
  "orig_nbformat": 4
 },
 "nbformat": 4,
 "nbformat_minor": 2
}
